{
  "cells": [
    {
      "cell_type": "markdown",
      "metadata": {
        "id": "RhEdWd9YUR6H"
      },
      "source": [
        "### Importação dos dados\n",
        "\n"
      ]
    },
    {
      "cell_type": "code",
      "execution_count": 5,
      "metadata": {
        "colab": {
          "base_uri": "https://localhost:8080/",
          "height": 248
        },
        "id": "T3EvaeQ_INIL",
        "outputId": "77c05824-040f-4325-9423-503376de3f12"
      },
      "outputs": [
        {
          "data": {
            "text/html": [
              "<div>\n",
              "<style scoped>\n",
              "    .dataframe tbody tr th:only-of-type {\n",
              "        vertical-align: middle;\n",
              "    }\n",
              "\n",
              "    .dataframe tbody tr th {\n",
              "        vertical-align: top;\n",
              "    }\n",
              "\n",
              "    .dataframe thead th {\n",
              "        text-align: right;\n",
              "    }\n",
              "</style>\n",
              "<table border=\"1\" class=\"dataframe\">\n",
              "  <thead>\n",
              "    <tr style=\"text-align: right;\">\n",
              "      <th></th>\n",
              "      <th>Produto</th>\n",
              "      <th>Categoria do Produto</th>\n",
              "      <th>Preço</th>\n",
              "      <th>Frete</th>\n",
              "      <th>Data da Compra</th>\n",
              "      <th>Vendedor</th>\n",
              "      <th>Local da compra</th>\n",
              "      <th>Avaliação da compra</th>\n",
              "      <th>Tipo de pagamento</th>\n",
              "      <th>Quantidade de parcelas</th>\n",
              "      <th>lat</th>\n",
              "      <th>lon</th>\n",
              "    </tr>\n",
              "  </thead>\n",
              "  <tbody>\n",
              "    <tr>\n",
              "      <th>0</th>\n",
              "      <td>Assistente virtual</td>\n",
              "      <td>eletronicos</td>\n",
              "      <td>219.08</td>\n",
              "      <td>9.249790</td>\n",
              "      <td>16/01/2021</td>\n",
              "      <td>Pedro Gomes</td>\n",
              "      <td>SP</td>\n",
              "      <td>4</td>\n",
              "      <td>cartao_credito</td>\n",
              "      <td>8</td>\n",
              "      <td>-22.19</td>\n",
              "      <td>-48.79</td>\n",
              "    </tr>\n",
              "    <tr>\n",
              "      <th>1</th>\n",
              "      <td>Mesa de jantar</td>\n",
              "      <td>moveis</td>\n",
              "      <td>256.35</td>\n",
              "      <td>11.234305</td>\n",
              "      <td>18/05/2022</td>\n",
              "      <td>Beatriz Moraes</td>\n",
              "      <td>RJ</td>\n",
              "      <td>1</td>\n",
              "      <td>cartao_credito</td>\n",
              "      <td>4</td>\n",
              "      <td>-22.25</td>\n",
              "      <td>-42.66</td>\n",
              "    </tr>\n",
              "    <tr>\n",
              "      <th>2</th>\n",
              "      <td>Jogo de tabuleiro</td>\n",
              "      <td>brinquedos</td>\n",
              "      <td>279.51</td>\n",
              "      <td>21.262681</td>\n",
              "      <td>15/03/2021</td>\n",
              "      <td>João Souza</td>\n",
              "      <td>DF</td>\n",
              "      <td>1</td>\n",
              "      <td>cartao_credito</td>\n",
              "      <td>1</td>\n",
              "      <td>-15.83</td>\n",
              "      <td>-47.86</td>\n",
              "    </tr>\n",
              "    <tr>\n",
              "      <th>3</th>\n",
              "      <td>Micro-ondas</td>\n",
              "      <td>eletrodomesticos</td>\n",
              "      <td>1009.99</td>\n",
              "      <td>54.667344</td>\n",
              "      <td>03/05/2022</td>\n",
              "      <td>João Souza</td>\n",
              "      <td>RS</td>\n",
              "      <td>4</td>\n",
              "      <td>boleto</td>\n",
              "      <td>1</td>\n",
              "      <td>-30.17</td>\n",
              "      <td>-53.50</td>\n",
              "    </tr>\n",
              "    <tr>\n",
              "      <th>4</th>\n",
              "      <td>Cadeira de escritório</td>\n",
              "      <td>moveis</td>\n",
              "      <td>446.99</td>\n",
              "      <td>26.964689</td>\n",
              "      <td>07/11/2020</td>\n",
              "      <td>Larissa Alves</td>\n",
              "      <td>MG</td>\n",
              "      <td>5</td>\n",
              "      <td>boleto</td>\n",
              "      <td>1</td>\n",
              "      <td>-18.10</td>\n",
              "      <td>-44.38</td>\n",
              "    </tr>\n",
              "  </tbody>\n",
              "</table>\n",
              "</div>"
            ],
            "text/plain": [
              "                 Produto Categoria do Produto    Preço      Frete  \\\n",
              "0     Assistente virtual          eletronicos   219.08   9.249790   \n",
              "1         Mesa de jantar               moveis   256.35  11.234305   \n",
              "2      Jogo de tabuleiro           brinquedos   279.51  21.262681   \n",
              "3            Micro-ondas     eletrodomesticos  1009.99  54.667344   \n",
              "4  Cadeira de escritório               moveis   446.99  26.964689   \n",
              "\n",
              "  Data da Compra        Vendedor Local da compra  Avaliação da compra  \\\n",
              "0     16/01/2021     Pedro Gomes              SP                    4   \n",
              "1     18/05/2022  Beatriz Moraes              RJ                    1   \n",
              "2     15/03/2021      João Souza              DF                    1   \n",
              "3     03/05/2022      João Souza              RS                    4   \n",
              "4     07/11/2020   Larissa Alves              MG                    5   \n",
              "\n",
              "  Tipo de pagamento  Quantidade de parcelas    lat    lon  \n",
              "0    cartao_credito                       8 -22.19 -48.79  \n",
              "1    cartao_credito                       4 -22.25 -42.66  \n",
              "2    cartao_credito                       1 -15.83 -47.86  \n",
              "3            boleto                       1 -30.17 -53.50  \n",
              "4            boleto                       1 -18.10 -44.38  "
            ]
          },
          "execution_count": 5,
          "metadata": {},
          "output_type": "execute_result"
        }
      ],
      "source": [
        "import pandas as pd\n",
        "\n",
        "url = \"https://raw.githubusercontent.com/alura-es-cursos/challenge1-data-science/refs/heads/main/base-de-dados-challenge-1/loja_1.csv\"\n",
        "url2 = \"https://raw.githubusercontent.com/alura-es-cursos/challenge1-data-science/refs/heads/main/base-de-dados-challenge-1/loja_2.csv\"\n",
        "url3 = \"https://raw.githubusercontent.com/alura-es-cursos/challenge1-data-science/refs/heads/main/base-de-dados-challenge-1/loja_3.csv\"\n",
        "url4 = \"https://raw.githubusercontent.com/alura-es-cursos/challenge1-data-science/refs/heads/main/base-de-dados-challenge-1/loja_4.csv\"\n",
        "\n",
        "loja = pd.read_csv(url)\n",
        "loja2 = pd.read_csv(url2)\n",
        "loja3 = pd.read_csv(url3)\n",
        "loja4 = pd.read_csv(url4)\n",
        "\n",
        "loja.head()                 # exibe as 5 primeiras linhas da loja 1           "
      ]
    },
    {
      "cell_type": "code",
      "execution_count": 6,
      "metadata": {},
      "outputs": [
        {
          "data": {
            "text/plain": [
              "(2359, 12)"
            ]
          },
          "execution_count": 6,
          "metadata": {},
          "output_type": "execute_result"
        }
      ],
      "source": [
        "loja.shape          # shape mostra qtas linhas e colunas há na loja 1"
      ]
    },
    {
      "cell_type": "code",
      "execution_count": 7,
      "metadata": {},
      "outputs": [
        {
          "data": {
            "text/html": [
              "<div>\n",
              "<style scoped>\n",
              "    .dataframe tbody tr th:only-of-type {\n",
              "        vertical-align: middle;\n",
              "    }\n",
              "\n",
              "    .dataframe tbody tr th {\n",
              "        vertical-align: top;\n",
              "    }\n",
              "\n",
              "    .dataframe thead th {\n",
              "        text-align: right;\n",
              "    }\n",
              "</style>\n",
              "<table border=\"1\" class=\"dataframe\">\n",
              "  <thead>\n",
              "    <tr style=\"text-align: right;\">\n",
              "      <th></th>\n",
              "      <th>Produto</th>\n",
              "      <th>Categoria do Produto</th>\n",
              "      <th>Preço</th>\n",
              "      <th>Frete</th>\n",
              "      <th>Data da Compra</th>\n",
              "      <th>Vendedor</th>\n",
              "      <th>Local da compra</th>\n",
              "      <th>Avaliação da compra</th>\n",
              "      <th>Tipo de pagamento</th>\n",
              "      <th>Quantidade de parcelas</th>\n",
              "      <th>lat</th>\n",
              "      <th>lon</th>\n",
              "      <th>Loja</th>\n",
              "    </tr>\n",
              "  </thead>\n",
              "  <tbody>\n",
              "    <tr>\n",
              "      <th>0</th>\n",
              "      <td>Assistente virtual</td>\n",
              "      <td>eletronicos</td>\n",
              "      <td>219.08</td>\n",
              "      <td>9.249790</td>\n",
              "      <td>16/01/2021</td>\n",
              "      <td>Pedro Gomes</td>\n",
              "      <td>SP</td>\n",
              "      <td>4</td>\n",
              "      <td>cartao_credito</td>\n",
              "      <td>8</td>\n",
              "      <td>-22.19</td>\n",
              "      <td>-48.79</td>\n",
              "      <td>Loja 1</td>\n",
              "    </tr>\n",
              "    <tr>\n",
              "      <th>1</th>\n",
              "      <td>Mesa de jantar</td>\n",
              "      <td>moveis</td>\n",
              "      <td>256.35</td>\n",
              "      <td>11.234305</td>\n",
              "      <td>18/05/2022</td>\n",
              "      <td>Beatriz Moraes</td>\n",
              "      <td>RJ</td>\n",
              "      <td>1</td>\n",
              "      <td>cartao_credito</td>\n",
              "      <td>4</td>\n",
              "      <td>-22.25</td>\n",
              "      <td>-42.66</td>\n",
              "      <td>Loja 1</td>\n",
              "    </tr>\n",
              "    <tr>\n",
              "      <th>2</th>\n",
              "      <td>Jogo de tabuleiro</td>\n",
              "      <td>brinquedos</td>\n",
              "      <td>279.51</td>\n",
              "      <td>21.262681</td>\n",
              "      <td>15/03/2021</td>\n",
              "      <td>João Souza</td>\n",
              "      <td>DF</td>\n",
              "      <td>1</td>\n",
              "      <td>cartao_credito</td>\n",
              "      <td>1</td>\n",
              "      <td>-15.83</td>\n",
              "      <td>-47.86</td>\n",
              "      <td>Loja 1</td>\n",
              "    </tr>\n",
              "    <tr>\n",
              "      <th>3</th>\n",
              "      <td>Micro-ondas</td>\n",
              "      <td>eletrodomesticos</td>\n",
              "      <td>1009.99</td>\n",
              "      <td>54.667344</td>\n",
              "      <td>03/05/2022</td>\n",
              "      <td>João Souza</td>\n",
              "      <td>RS</td>\n",
              "      <td>4</td>\n",
              "      <td>boleto</td>\n",
              "      <td>1</td>\n",
              "      <td>-30.17</td>\n",
              "      <td>-53.50</td>\n",
              "      <td>Loja 1</td>\n",
              "    </tr>\n",
              "    <tr>\n",
              "      <th>4</th>\n",
              "      <td>Cadeira de escritório</td>\n",
              "      <td>moveis</td>\n",
              "      <td>446.99</td>\n",
              "      <td>26.964689</td>\n",
              "      <td>07/11/2020</td>\n",
              "      <td>Larissa Alves</td>\n",
              "      <td>MG</td>\n",
              "      <td>5</td>\n",
              "      <td>boleto</td>\n",
              "      <td>1</td>\n",
              "      <td>-18.10</td>\n",
              "      <td>-44.38</td>\n",
              "      <td>Loja 1</td>\n",
              "    </tr>\n",
              "    <tr>\n",
              "      <th>5</th>\n",
              "      <td>Blocos de montar</td>\n",
              "      <td>brinquedos</td>\n",
              "      <td>32.26</td>\n",
              "      <td>0.000000</td>\n",
              "      <td>03/12/2020</td>\n",
              "      <td>Beatriz Moraes</td>\n",
              "      <td>RS</td>\n",
              "      <td>5</td>\n",
              "      <td>cupom</td>\n",
              "      <td>1</td>\n",
              "      <td>-30.17</td>\n",
              "      <td>-53.50</td>\n",
              "      <td>Loja 1</td>\n",
              "    </tr>\n",
              "    <tr>\n",
              "      <th>6</th>\n",
              "      <td>Boneca bebê</td>\n",
              "      <td>brinquedos</td>\n",
              "      <td>58.90</td>\n",
              "      <td>0.000000</td>\n",
              "      <td>07/08/2021</td>\n",
              "      <td>João Souza</td>\n",
              "      <td>SP</td>\n",
              "      <td>3</td>\n",
              "      <td>boleto</td>\n",
              "      <td>1</td>\n",
              "      <td>-22.19</td>\n",
              "      <td>-48.79</td>\n",
              "      <td>Loja 1</td>\n",
              "    </tr>\n",
              "    <tr>\n",
              "      <th>7</th>\n",
              "      <td>Lava louças</td>\n",
              "      <td>eletrodomesticos</td>\n",
              "      <td>1586.23</td>\n",
              "      <td>84.993080</td>\n",
              "      <td>18/06/2021</td>\n",
              "      <td>Felipe Santos</td>\n",
              "      <td>CE</td>\n",
              "      <td>5</td>\n",
              "      <td>cartao_credito</td>\n",
              "      <td>10</td>\n",
              "      <td>-5.20</td>\n",
              "      <td>-39.53</td>\n",
              "      <td>Loja 1</td>\n",
              "    </tr>\n",
              "    <tr>\n",
              "      <th>8</th>\n",
              "      <td>Lavadora de roupas</td>\n",
              "      <td>eletrodomesticos</td>\n",
              "      <td>2024.31</td>\n",
              "      <td>105.372857</td>\n",
              "      <td>08/01/2022</td>\n",
              "      <td>Thiago Silva</td>\n",
              "      <td>SP</td>\n",
              "      <td>1</td>\n",
              "      <td>cartao_credito</td>\n",
              "      <td>5</td>\n",
              "      <td>-22.19</td>\n",
              "      <td>-48.79</td>\n",
              "      <td>Loja 1</td>\n",
              "    </tr>\n",
              "    <tr>\n",
              "      <th>9</th>\n",
              "      <td>Carrinho controle remoto</td>\n",
              "      <td>brinquedos</td>\n",
              "      <td>100.26</td>\n",
              "      <td>6.737659</td>\n",
              "      <td>24/02/2020</td>\n",
              "      <td>Beatriz Moraes</td>\n",
              "      <td>SP</td>\n",
              "      <td>5</td>\n",
              "      <td>boleto</td>\n",
              "      <td>1</td>\n",
              "      <td>-22.19</td>\n",
              "      <td>-48.79</td>\n",
              "      <td>Loja 1</td>\n",
              "    </tr>\n",
              "    <tr>\n",
              "      <th>10</th>\n",
              "      <td>Geladeira</td>\n",
              "      <td>eletrodomesticos</td>\n",
              "      <td>3241.75</td>\n",
              "      <td>170.197874</td>\n",
              "      <td>03/04/2020</td>\n",
              "      <td>Bianca Santos</td>\n",
              "      <td>SP</td>\n",
              "      <td>5</td>\n",
              "      <td>cartao_credito</td>\n",
              "      <td>2</td>\n",
              "      <td>-22.19</td>\n",
              "      <td>-48.79</td>\n",
              "      <td>Loja 1</td>\n",
              "    </tr>\n",
              "  </tbody>\n",
              "</table>\n",
              "</div>"
            ],
            "text/plain": [
              "                     Produto Categoria do Produto    Preço       Frete  \\\n",
              "0         Assistente virtual          eletronicos   219.08    9.249790   \n",
              "1             Mesa de jantar               moveis   256.35   11.234305   \n",
              "2          Jogo de tabuleiro           brinquedos   279.51   21.262681   \n",
              "3                Micro-ondas     eletrodomesticos  1009.99   54.667344   \n",
              "4      Cadeira de escritório               moveis   446.99   26.964689   \n",
              "5           Blocos de montar           brinquedos    32.26    0.000000   \n",
              "6                Boneca bebê           brinquedos    58.90    0.000000   \n",
              "7                Lava louças     eletrodomesticos  1586.23   84.993080   \n",
              "8         Lavadora de roupas     eletrodomesticos  2024.31  105.372857   \n",
              "9   Carrinho controle remoto           brinquedos   100.26    6.737659   \n",
              "10                 Geladeira     eletrodomesticos  3241.75  170.197874   \n",
              "\n",
              "   Data da Compra        Vendedor Local da compra  Avaliação da compra  \\\n",
              "0      16/01/2021     Pedro Gomes              SP                    4   \n",
              "1      18/05/2022  Beatriz Moraes              RJ                    1   \n",
              "2      15/03/2021      João Souza              DF                    1   \n",
              "3      03/05/2022      João Souza              RS                    4   \n",
              "4      07/11/2020   Larissa Alves              MG                    5   \n",
              "5      03/12/2020  Beatriz Moraes              RS                    5   \n",
              "6      07/08/2021      João Souza              SP                    3   \n",
              "7      18/06/2021   Felipe Santos              CE                    5   \n",
              "8      08/01/2022    Thiago Silva              SP                    1   \n",
              "9      24/02/2020  Beatriz Moraes              SP                    5   \n",
              "10     03/04/2020   Bianca Santos              SP                    5   \n",
              "\n",
              "   Tipo de pagamento  Quantidade de parcelas    lat    lon    Loja  \n",
              "0     cartao_credito                       8 -22.19 -48.79  Loja 1  \n",
              "1     cartao_credito                       4 -22.25 -42.66  Loja 1  \n",
              "2     cartao_credito                       1 -15.83 -47.86  Loja 1  \n",
              "3             boleto                       1 -30.17 -53.50  Loja 1  \n",
              "4             boleto                       1 -18.10 -44.38  Loja 1  \n",
              "5              cupom                       1 -30.17 -53.50  Loja 1  \n",
              "6             boleto                       1 -22.19 -48.79  Loja 1  \n",
              "7     cartao_credito                      10  -5.20 -39.53  Loja 1  \n",
              "8     cartao_credito                       5 -22.19 -48.79  Loja 1  \n",
              "9             boleto                       1 -22.19 -48.79  Loja 1  \n",
              "10    cartao_credito                       2 -22.19 -48.79  Loja 1  "
            ]
          },
          "execution_count": 7,
          "metadata": {},
          "output_type": "execute_result"
        }
      ],
      "source": [
        "# Adicionar coluna 'Loja' para cada DataFrame - p/ conseguir verificar vendas por categoria\n",
        "loja['Loja'] = 'Loja 1'\n",
        "loja2['Loja'] = 'Loja 2'\n",
        "loja3['Loja'] = 'Loja 3'\n",
        "loja4['Loja'] = 'Loja 4'\n",
        "\n",
        "# Juntar todas as lojas em um único DataFrame\n",
        "todasLojas = pd.concat([loja, loja2, loja3, loja4], ignore_index=True)     #index=True reenumera índice de 0 até o final\n",
        "\n",
        "# Exibir as 11 primeiras linhas\n",
        "todasLojas.head(11)   "
      ]
    },
    {
      "cell_type": "code",
      "execution_count": 8,
      "metadata": {},
      "outputs": [
        {
          "data": {
            "text/plain": [
              "(9435, 13)"
            ]
          },
          "execution_count": 8,
          "metadata": {},
          "output_type": "execute_result"
        }
      ],
      "source": [
        "todasLojas.shape                # mostrar qtas linhas e colunas há nas quatro lojas       "
      ]
    },
    {
      "cell_type": "markdown",
      "metadata": {
        "id": "X62IW3KFUIYm"
      },
      "source": [
        "# 1. Análise do Faturamento\n",
        "Calcular o faturamento total de cada loja. Somando os valores da coluna Preço de cada loja para estimar o faturamento.\n"
      ]
    },
    {
      "cell_type": "code",
      "execution_count": 9,
      "metadata": {
        "colab": {
          "base_uri": "https://localhost:8080/"
        },
        "id": "xykobSftV64I",
        "outputId": "7edb1649-6a5c-4cb8-a2d6-16612e9761b7"
      },
      "outputs": [
        {
          "name": "stdout",
          "output_type": "stream",
          "text": [
            "Faturamento Loja 1: R$ 1534509.12\n",
            "Faturamento Loja 2: R$ 1488459.06\n",
            "Faturamento Loja 3: R$ 1464025.03\n",
            "Faturamento Loja 4: R$ 1384497.58\n",
            "\n",
            "Faturamento Total das Lojas: R$ 5871490.79\n"
          ]
        },
        {
          "data": {
            "text/plain": [
              "'\\nFaturamento Loja 1: R$ 1534509.12\\nFaturamento Loja 2: R$ 1488459.06\\nFaturamento Loja 3: R$ 1464025.03\\nFaturamento Loja 4: R$ 1384497.58\\n\\nFaturamento Total da Lojas: R$ 5871490.79\\n'"
            ]
          },
          "execution_count": 9,
          "metadata": {},
          "output_type": "execute_result"
        }
      ],
      "source": [
        "\n",
        "'''\n",
        "# Faturamento total de cada loja\n",
        "faturamentoLoja1 = loja['Preço'].sum()          # sum = soma todos os valores da coluna 'preco' da loja\n",
        "faturamentoLoja2 = loja2['Preço'].sum()\n",
        "faturamentoLoja3 = loja3['Preço'].sum()\n",
        "faturamentoLoja4 = loja4['Preço'].sum()\n",
        "\n",
        "# Faturamento total das quatro lojas\n",
        "faturamentoTotal = faturamentoLoja1 + faturamentoLoja2 + faturamentoLoja3 + faturamentoLoja4\n",
        "\n",
        "# Exibir os resultados\n",
        "print(f'Faturamento Loja 1: R$ {faturamentoLoja1:.2f}')\n",
        "print(f'Faturamento Loja 2: R$ {faturamentoLoja2:.2f}')\n",
        "print(f'Faturamento Loja 3: R$ {faturamentoLoja3:.2f}')\n",
        "print(f'Faturamento Loja 4: R$ {faturamentoLoja4:.2f}')\n",
        "print()\n",
        "print(f'Faturamento Total da Lojas: R$ {faturamentoTotal:.2f}')\n",
        "'''\n",
        "\n",
        "\n",
        "# outra forma: lista\n",
        "faturamentoLojas = [loja['Preço'].sum(), loja2['Preço'].sum(), loja3['Preço'].sum(), loja4['Preço'].sum()]\n",
        "faturamentoTotal = sum(faturamentoLojas)\n",
        "\n",
        "for i, valor in enumerate(faturamentoLojas, start=1):       # enumerate = p/ numerar as lojas dinamicamente\n",
        "    print(f'Faturamento Loja {i}: R$ {valor:.2f}')\n",
        "\n",
        "print()\n",
        "print(f'Faturamento Total das Lojas: R$ {faturamentoTotal:.2f}')\n",
        "\n",
        "'''\n",
        "Faturamento Loja 1: R$ 1534509.12\n",
        "Faturamento Loja 2: R$ 1488459.06\n",
        "Faturamento Loja 3: R$ 1464025.03\n",
        "Faturamento Loja 4: R$ 1384497.58\n",
        "\n",
        "Faturamento Total da Lojas: R$ 5871490.79\n",
        "'''"
      ]
    },
    {
      "cell_type": "markdown",
      "metadata": {
        "id": "2V_vcAPzWZmR"
      },
      "source": [
        "# 2. Vendas por Categoria\n",
        "Calcular a quantidade de produtos vendidos por categoria em cada loja. Agrupar os dados por categoria e contar o número de vendas de cada tipo, mostrando as categorias mais populares de cada loja."
      ]
    },
    {
      "cell_type": "code",
      "execution_count": 10,
      "metadata": {
        "colab": {
          "base_uri": "https://localhost:8080/"
        },
        "id": "A34YupIuYhfF",
        "outputId": "8c597070-598c-491d-dcaf-769395a7a248"
      },
      "outputs": [
        {
          "name": "stdout",
          "output_type": "stream",
          "text": [
            "Vendas por Categoria\n",
            "\n",
            " --- Loja 1 ---\n",
            "    Categoria do Produto  Quantidade\n",
            "0             brinquedos         324\n",
            "1       eletrodomesticos         312\n",
            "2            eletronicos         448\n",
            "3        esporte e lazer         284\n",
            "4  instrumentos musicais         182\n",
            "5                 livros         173\n",
            "6                 moveis         465\n",
            "7  utilidades domesticas         171\n",
            "\n",
            " --- Loja 2 ---\n",
            "     Categoria do Produto  Quantidade\n",
            "8              brinquedos         313\n",
            "9        eletrodomesticos         305\n",
            "10            eletronicos         422\n",
            "11        esporte e lazer         275\n",
            "12  instrumentos musicais         224\n",
            "13                 livros         197\n",
            "14                 moveis         442\n",
            "15  utilidades domesticas         181\n",
            "\n",
            " --- Loja 3 ---\n",
            "     Categoria do Produto  Quantidade\n",
            "16             brinquedos         315\n",
            "17       eletrodomesticos         278\n",
            "18            eletronicos         451\n",
            "19        esporte e lazer         277\n",
            "20  instrumentos musicais         177\n",
            "21                 livros         185\n",
            "22                 moveis         499\n",
            "23  utilidades domesticas         177\n",
            "\n",
            " --- Loja 4 ---\n",
            "     Categoria do Produto  Quantidade\n",
            "24             brinquedos         338\n",
            "25       eletrodomesticos         254\n",
            "26            eletronicos         451\n",
            "27        esporte e lazer         277\n",
            "28  instrumentos musicais         170\n",
            "29                 livros         187\n",
            "30                 moveis         480\n",
            "31  utilidades domesticas         201\n"
          ]
        },
        {
          "data": {
            "text/plain": [
              "'\\nVendas por Categoria\\n\\n --- Loja 1 ---\\n    Categoria do Produto  Quantidade\\n0             brinquedos         324\\n1       eletrodomesticos         312\\n2            eletronicos         448\\n3        esporte e lazer         284\\n4  instrumentos musicais         182\\n5                 livros         173\\n6                 moveis         465\\n7  utilidades domesticas         171\\n\\n --- Loja 2 ---\\n     Categoria do Produto  Quantidade\\n8              brinquedos         313\\n9        eletrodomesticos         305\\n10            eletronicos         422\\n11        esporte e lazer         275\\n12  instrumentos musicais         224\\n13                 livros         197\\n14                 moveis         442\\n15  utilidades domesticas         181\\n\\n --- Loja 3 ---\\n...\\n28  instrumentos musicais         170\\n29                 livros         187\\n30                 moveis         480\\n31  utilidades domesticas         201\\n'"
            ]
          },
          "execution_count": 10,
          "metadata": {},
          "output_type": "execute_result"
        }
      ],
      "source": [
        "# Agrupar dados por categoria\n",
        "# Contar qtas vezes cada categoria aparece em cada loja\n",
        "# Transformar agrupamento em tabela\n",
        "vendasPorCategoria = todasLojas.groupby(['Loja', 'Categoria do Produto']).size().reset_index(name='Quantidade')\n",
        "\n",
        "# Nomes únicos, sem repetir\n",
        "lojas = vendasPorCategoria['Loja'].unique()\n",
        "\n",
        "# Exibir por loja\n",
        "print('Vendas por Categoria')\n",
        "for nomeLoja in lojas:\n",
        "    print(f'\\n --- {nomeLoja} ---')\n",
        "\n",
        "    # Filtrar apenas linha dessa lija\n",
        "    dadosLoja = vendasPorCategoria[vendasPorCategoria['Loja'] == nomeLoja]\n",
        "\n",
        "    # Selecionar apenas as colunas q/ quero exibir\n",
        "    resultado = dadosLoja[['Categoria do Produto', 'Quantidade']]\n",
        "\n",
        "    print(resultado)\n",
        "\n",
        "'''\n",
        "Vendas por Categoria\n",
        "\n",
        " --- Loja 1 ---\n",
        "    Categoria do Produto  Quantidade\n",
        "0             brinquedos         324\n",
        "1       eletrodomesticos         312\n",
        "2            eletronicos         448\n",
        "3        esporte e lazer         284\n",
        "4  instrumentos musicais         182\n",
        "5                 livros         173\n",
        "6                 moveis         465\n",
        "7  utilidades domesticas         171\n",
        "\n",
        " --- Loja 2 ---\n",
        "     Categoria do Produto  Quantidade\n",
        "8              brinquedos         313\n",
        "9        eletrodomesticos         305\n",
        "10            eletronicos         422\n",
        "11        esporte e lazer         275\n",
        "12  instrumentos musicais         224\n",
        "13                 livros         197\n",
        "14                 moveis         442\n",
        "15  utilidades domesticas         181\n",
        "\n",
        " --- Loja 3 ---\n",
        "...\n",
        "28  instrumentos musicais         170\n",
        "29                 livros         187\n",
        "30                 moveis         480\n",
        "31  utilidades domesticas         201\n",
        "'''\n"
      ]
    },
    {
      "cell_type": "markdown",
      "metadata": {
        "id": "Rq6tU_xSY3jk"
      },
      "source": [
        "# 3. Média de Avaliação das Lojas\n",
        "Calcular a média das avaliações dos clientes para cada loja. O objetivo é entender a satisfação dos clientes com os produtos vendidos."
      ]
    },
    {
      "cell_type": "code",
      "execution_count": 11,
      "metadata": {
        "colab": {
          "base_uri": "https://localhost:8080/"
        },
        "collapsed": true,
        "id": "bh3jjjJwY5MU",
        "outputId": "e5c1e6eb-09e9-4239-9a39-979c0b858dc8"
      },
      "outputs": [
        {
          "name": "stdout",
          "output_type": "stream",
          "text": [
            "<class 'pandas.core.frame.DataFrame'>\n",
            "Média de Avaliação por Loja:\n",
            "Loja 1: 3.98\n",
            "Loja 2: 4.04\n",
            "Loja 3: 4.05\n",
            "Loja 4: 4.00\n"
          ]
        }
      ],
      "source": [
        "\n",
        "print(type(loja))\n",
        "\n",
        "\n",
        "mediaAvaliacao_loja1 = loja['Avaliação da compra'].mean()           # mean => calcula média da coluna\n",
        "mediaAvaliacao_loja2 = loja2['Avaliação da compra'].mean() \n",
        "mediaAvaliacao_loja3 = loja3['Avaliação da compra'].mean() \n",
        "mediaAvaliacao_loja4 = loja4['Avaliação da compra'].mean() \n",
        "\n",
        "print(\"Média de Avaliação por Loja:\")\n",
        "print(f'Loja 1: {mediaAvaliacao_loja1:.2f}')\n",
        "print(f'Loja 2: {mediaAvaliacao_loja2:.2f}')\n",
        "print(f'Loja 3: {mediaAvaliacao_loja3:.2f}')\n",
        "print(f'Loja 4: {mediaAvaliacao_loja4:.2f}')\n"
      ]
    },
    {
      "cell_type": "markdown",
      "metadata": {
        "id": "DmNp1KPBZCm-"
      },
      "source": [
        "# 4. Produtos Mais e Menos Vendidos"
      ]
    },
    {
      "cell_type": "code",
      "execution_count": 14,
      "metadata": {
        "colab": {
          "base_uri": "https://localhost:8080/"
        },
        "collapsed": true,
        "id": "qoyjqijQZHfF",
        "outputId": "24711ad0-488a-489d-bc89-b7b59980c022"
      },
      "outputs": [
        {
          "name": "stdout",
          "output_type": "stream",
          "text": [
            "Produto menos vendido:\n",
            "Smartwatch - 432 unidades\n",
            "Produto mais vendido:\n",
            "Secadora de roupas - 649 unidades\n"
          ]
        }
      ],
      "source": [
        "# Juntar dados de todas as lojas\n",
        "todasAsLojas = pd.concat([loja, loja2, loja3, loja4])       # concatenando p/ 1 só\n",
        "\n",
        "# Agrupar dados por nome do produto e somar a qtde vendida\n",
        "vendasPorProduto = todasAsLojas.groupby('Produto')['Quantidade de parcelas'].sum()\n",
        "\n",
        "# Ordenar da menor p/ a maior qtde vendida\n",
        "vendasOrdenadas = vendasPorProduto.sort_values()        # sort_values = ordena mais e menos vendido\n",
        "\n",
        "# Produto menos vendido primeiro da lista\n",
        "produtoMenosVendido = vendasOrdenadas.index[0]\n",
        "qtdMenosVendido = vendasOrdenadas.iloc[0]               # iloc[0] = pega o primeiro\n",
        "\n",
        "# Produto mais vendido último da lista\n",
        "produtoMaisVendido = vendasOrdenadas.index[-1]\n",
        "qtdMaisVendido = vendasOrdenadas.iloc[-1]               # iloc[0] = pega o último\n",
        "\n",
        "print('Produto menos vendido:')\n",
        "print(f'{produtoMenosVendido} - {qtdMenosVendido} unidades')\n",
        "\n",
        "print('Produto mais vendido:')\n",
        "print(f'{produtoMaisVendido} - {qtdMaisVendido} unidades')"
      ]
    },
    {
      "cell_type": "markdown",
      "metadata": {
        "id": "Fl0cGi3bZKqU"
      },
      "source": [
        "# 5. Frete Médio por Loja"
      ]
    },
    {
      "cell_type": "code",
      "execution_count": 17,
      "metadata": {
        "colab": {
          "base_uri": "https://localhost:8080/"
        },
        "collapsed": true,
        "id": "S2JeaCykZNy9",
        "outputId": "08123694-09c6-4278-de1f-d08f3d1c98bc"
      },
      "outputs": [
        {
          "name": "stdout",
          "output_type": "stream",
          "text": [
            "Frete médio por loja:\n",
            "\n",
            "Loja 1: R$ 34.69\n",
            "Loja 2: R$ 33.62\n",
            "Loja 3: R$ 33.07\n",
            "Loja 4: R$ 31.28\n"
          ]
        }
      ],
      "source": [
        "freteMedioPorLoja = todasAsLojas.groupby('Loja')['Frete'].mean()\n",
        "\n",
        "print('Frete médio por loja:\\n')\n",
        "for loja, frete in freteMedioPorLoja.items():\n",
        "    print(f'{loja}: R$ {frete:.2f}')\n",
        "\n"
      ]
    },
    {
      "cell_type": "markdown",
      "metadata": {
        "id": "_YB7K7yToKT6"
      },
      "source": [
        "# 6. Gráficos"
      ]
    },
    {
      "cell_type": "code",
      "execution_count": null,
      "metadata": {
        "colab": {
          "base_uri": "https://localhost:8080/",
          "height": 1000
        },
        "id": "Eo6SGuftT06z",
        "outputId": "3c0b7573-3531-49ae-ad92-323d8023cf03"
      },
      "outputs": [],
      "source": [
        "\n"
      ]
    }
  ],
  "metadata": {
    "colab": {
      "provenance": []
    },
    "kernelspec": {
      "display_name": "venv",
      "language": "python",
      "name": "python3"
    },
    "language_info": {
      "codemirror_mode": {
        "name": "ipython",
        "version": 3
      },
      "file_extension": ".py",
      "mimetype": "text/x-python",
      "name": "python",
      "nbconvert_exporter": "python",
      "pygments_lexer": "ipython3",
      "version": "3.12.3"
    }
  },
  "nbformat": 4,
  "nbformat_minor": 0
}
